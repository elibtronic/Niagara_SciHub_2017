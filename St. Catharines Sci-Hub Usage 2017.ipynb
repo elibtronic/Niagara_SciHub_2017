{
 "cells": [
  {
   "cell_type": "markdown",
   "metadata": {},
   "source": [
    "# St Catharines Sci-Hub Usage 2017"
   ]
  },
  {
   "cell_type": "code",
   "execution_count": 1,
   "metadata": {},
   "outputs": [],
   "source": [
    "import pandas as pd\n",
    "import numpy as np\n"
   ]
  },
  {
   "cell_type": "markdown",
   "metadata": {},
   "source": [
    "## Load usage file into a dataframe and display first 5 rows"
   ]
  },
  {
   "cell_type": "code",
   "execution_count": 2,
   "metadata": {},
   "outputs": [
    {
     "data": {
      "text/html": [
       "<div>\n",
       "<style scoped>\n",
       "    .dataframe tbody tr th:only-of-type {\n",
       "        vertical-align: middle;\n",
       "    }\n",
       "\n",
       "    .dataframe tbody tr th {\n",
       "        vertical-align: top;\n",
       "    }\n",
       "\n",
       "    .dataframe thead th {\n",
       "        text-align: right;\n",
       "    }\n",
       "</style>\n",
       "<table border=\"1\" class=\"dataframe\">\n",
       "  <thead>\n",
       "    <tr style=\"text-align: right;\">\n",
       "      <th></th>\n",
       "      <th>date</th>\n",
       "      <th>doi</th>\n",
       "      <th>IP_code</th>\n",
       "      <th>User_code</th>\n",
       "      <th>country</th>\n",
       "      <th>city</th>\n",
       "      <th>lat</th>\n",
       "      <th>long</th>\n",
       "    </tr>\n",
       "  </thead>\n",
       "  <tbody>\n",
       "    <tr>\n",
       "      <th>0</th>\n",
       "      <td>2017-01-01 12:15:09</td>\n",
       "      <td>10.1089/vbz.2004.4.190</td>\n",
       "      <td>18048</td>\n",
       "      <td>25846</td>\n",
       "      <td>Canada</td>\n",
       "      <td>Saint Catharines</td>\n",
       "      <td>43.159374</td>\n",
       "      <td>-79.246863</td>\n",
       "    </tr>\n",
       "    <tr>\n",
       "      <th>1</th>\n",
       "      <td>2017-01-01 16:22:15</td>\n",
       "      <td>10.1111/j.1365-2915.2011.00962.x</td>\n",
       "      <td>18048</td>\n",
       "      <td>25846</td>\n",
       "      <td>Canada</td>\n",
       "      <td>Saint Catharines</td>\n",
       "      <td>43.159374</td>\n",
       "      <td>-79.246863</td>\n",
       "    </tr>\n",
       "    <tr>\n",
       "      <th>2</th>\n",
       "      <td>2017-01-01 18:53:48</td>\n",
       "      <td>10.1177/1087057108319864</td>\n",
       "      <td>39529</td>\n",
       "      <td>57891</td>\n",
       "      <td>Canada</td>\n",
       "      <td>Saint Catharines</td>\n",
       "      <td>43.159374</td>\n",
       "      <td>-79.246863</td>\n",
       "    </tr>\n",
       "    <tr>\n",
       "      <th>3</th>\n",
       "      <td>2017-01-02 19:37:36</td>\n",
       "      <td>10.1046/j.1601-6335.2003.00268.x</td>\n",
       "      <td>115799</td>\n",
       "      <td>167352</td>\n",
       "      <td>Canada</td>\n",
       "      <td>Saint Catharines</td>\n",
       "      <td>43.159374</td>\n",
       "      <td>-79.246863</td>\n",
       "    </tr>\n",
       "    <tr>\n",
       "      <th>4</th>\n",
       "      <td>2017-01-02 22:03:09</td>\n",
       "      <td>10.1016/s0940-9602(99)80076-4</td>\n",
       "      <td>115799</td>\n",
       "      <td>167352</td>\n",
       "      <td>Canada</td>\n",
       "      <td>Saint Catharines</td>\n",
       "      <td>43.159374</td>\n",
       "      <td>-79.246863</td>\n",
       "    </tr>\n",
       "  </tbody>\n",
       "</table>\n",
       "</div>"
      ],
      "text/plain": [
       "                  date                               doi  IP_code  User_code  \\\n",
       "0  2017-01-01 12:15:09            10.1089/vbz.2004.4.190    18048      25846   \n",
       "1  2017-01-01 16:22:15  10.1111/j.1365-2915.2011.00962.x    18048      25846   \n",
       "2  2017-01-01 18:53:48          10.1177/1087057108319864    39529      57891   \n",
       "3  2017-01-02 19:37:36  10.1046/j.1601-6335.2003.00268.x   115799     167352   \n",
       "4  2017-01-02 22:03:09     10.1016/s0940-9602(99)80076-4   115799     167352   \n",
       "\n",
       "  country              city        lat       long  \n",
       "0  Canada  Saint Catharines  43.159374 -79.246863  \n",
       "1  Canada  Saint Catharines  43.159374 -79.246863  \n",
       "2  Canada  Saint Catharines  43.159374 -79.246863  \n",
       "3  Canada  Saint Catharines  43.159374 -79.246863  \n",
       "4  Canada  Saint Catharines  43.159374 -79.246863  "
      ]
     },
     "execution_count": 2,
     "metadata": {},
     "output_type": "execute_result"
    }
   ],
   "source": [
    "f = open(\"sc_use.tab\", \"r\")\n",
    "data = pd.read_table(f)\n",
    "\n",
    "data.columns = [\"date\",\"doi\",\"IP_code\",\"User_code\",\"country\",\"city\",\"lat\",\"long\"]\n",
    "data = data.sort_values(by = \"date\", ascending = True)\n",
    "data.head(5)"
   ]
  },
  {
   "cell_type": "markdown",
   "metadata": {},
   "source": [
    "## Which paper was downloaded the most?"
   ]
  },
  {
   "cell_type": "code",
   "execution_count": 3,
   "metadata": {},
   "outputs": [
    {
     "data": {
      "text/plain": [
       "doi\n",
       "10.1071/CH06322             15\n",
       "10.1002/zaac.19693700513    13\n",
       "10.1071/CH10259             13\n",
       "10.1246/bcsj.71.1923        10\n",
       "10.1126/science.1233508      8\n",
       "Name: date, dtype: int64"
      ]
     },
     "execution_count": 3,
     "metadata": {},
     "output_type": "execute_result"
    }
   ],
   "source": [
    "top_doi = data.groupby(\"doi\").count().sort_values(by = \"date\", ascending = False)[:100].date\n",
    "top_doi.head()"
   ]
  },
  {
   "cell_type": "markdown",
   "metadata": {},
   "source": [
    "## Who was the busiest user?"
   ]
  },
  {
   "cell_type": "code",
   "execution_count": 4,
   "metadata": {},
   "outputs": [
    {
     "data": {
      "text/plain": [
       "User_code\n",
       "523173     184\n",
       "6294894    178\n",
       "5154801    144\n",
       "304463     138\n",
       "333551     138\n",
       "Name: date, dtype: int64"
      ]
     },
     "execution_count": 4,
     "metadata": {},
     "output_type": "execute_result"
    }
   ],
   "source": [
    "top_users = data.groupby(\"User_code\").count().sort_values(by = \"date\", ascending = False).date\n",
    "top_users.head(5)"
   ]
  },
  {
   "cell_type": "markdown",
   "metadata": {},
   "source": [
    "## Can we plot out how many papers each user has downloaded?"
   ]
  },
  {
   "cell_type": "code",
   "execution_count": 5,
   "metadata": {},
   "outputs": [
    {
     "data": {
      "image/png": "[encoded data removed]",
      "text/plain": [
       "<Figure size 432x288 with 1 Axes>"
      ]
     },
     "metadata": {
      "needs_background": "light"
     },
     "output_type": "display_data"
    },
    {
     "name": "stdout",
     "output_type": "stream",
     "text": [
      "<class 'pandas.core.series.Series'>\n"
     ]
    }
   ],
   "source": [
    "%matplotlib inline\n",
    "import matplotlib.pyplot as plt\n",
    "plt.bar(top_users,top_users, align='center', alpha=0.5)\n",
    "plt.ylabel(\"Downloads\")\n",
    "plt.xlabel(\"User\")\n",
    "plt.title(\"Downloads by User\")\n",
    "plt.show()\n",
    "print(type(top_users))"
   ]
  },
  {
   "cell_type": "code",
   "execution_count": null,
   "metadata": {},
   "outputs": [],
   "source": []
  }
 ],
 "metadata": {
  "kernelspec": {
   "display_name": "Python 3",
   "language": "python",
   "name": "python3"
  },
  "language_info": {
   "codemirror_mode": {
    "name": "ipython",
    "version": 3
   },
   "file_extension": ".py",
   "mimetype": "text/x-python",
   "name": "python",
   "nbconvert_exporter": "python",
   "pygments_lexer": "ipython3",
   "version": "3.7.1"
  }
 },
 "nbformat": 4,
 "nbformat_minor": 2
}
